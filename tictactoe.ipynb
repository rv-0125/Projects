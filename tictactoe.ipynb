{
 "cells": [
  {
   "cell_type": "code",
   "execution_count": 2,
   "id": "ae7053ac-9489-4f72-a115-b15b4063a99f",
   "metadata": {},
   "outputs": [
    {
     "name": "stdout",
     "output_type": "stream",
     "text": [
      " | | \n",
      "-----\n",
      " | | \n",
      "-----\n",
      " | | \n",
      "-----\n"
     ]
    },
    {
     "name": "stdin",
     "output_type": "stream",
     "text": [
      "Enter your move (row and column):  1 1\n"
     ]
    },
    {
     "name": "stdout",
     "output_type": "stream",
     "text": [
      " | | \n",
      "-----\n",
      " |O| \n",
      "-----\n",
      " | | \n",
      "-----\n",
      "X| | \n",
      "-----\n",
      " |O| \n",
      "-----\n",
      " | | \n",
      "-----\n"
     ]
    },
    {
     "name": "stdin",
     "output_type": "stream",
     "text": [
      "Enter your move (row and column):  0 2\n"
     ]
    },
    {
     "name": "stdout",
     "output_type": "stream",
     "text": [
      "X| |O\n",
      "-----\n",
      " |O| \n",
      "-----\n",
      " | | \n",
      "-----\n",
      "X| |O\n",
      "-----\n",
      " |O| \n",
      "-----\n",
      "X| | \n",
      "-----\n"
     ]
    },
    {
     "name": "stdin",
     "output_type": "stream",
     "text": [
      "Enter your move (row and column):  1 0\n"
     ]
    },
    {
     "name": "stdout",
     "output_type": "stream",
     "text": [
      "X| |O\n",
      "-----\n",
      "O|O| \n",
      "-----\n",
      "X| | \n",
      "-----\n",
      "X| |O\n",
      "-----\n",
      "O|O|X\n",
      "-----\n",
      "X| | \n",
      "-----\n"
     ]
    },
    {
     "name": "stdin",
     "output_type": "stream",
     "text": [
      "Enter your move (row and column):  0 1\n"
     ]
    },
    {
     "name": "stdout",
     "output_type": "stream",
     "text": [
      "X|O|O\n",
      "-----\n",
      "O|O|X\n",
      "-----\n",
      "X| | \n",
      "-----\n",
      "X|O|O\n",
      "-----\n",
      "O|O|X\n",
      "-----\n",
      "X|X| \n",
      "-----\n"
     ]
    },
    {
     "name": "stdin",
     "output_type": "stream",
     "text": [
      "Enter your move (row and column):  2 2\n"
     ]
    },
    {
     "name": "stdout",
     "output_type": "stream",
     "text": [
      "X|O|O\n",
      "-----\n",
      "O|O|X\n",
      "-----\n",
      "X|X|O\n",
      "-----\n",
      "It's a tie!\n"
     ]
    }
   ],
   "source": [
    "import random\n",
    "\n",
    "def print_board(board):\n",
    "    for row in board:\n",
    "        print(\"|\".join(row))\n",
    "        print(\"-\" * 5)\n",
    "\n",
    "def check_winner(board, player):\n",
    "    win_cond = [[(0, 0), (0, 1), (0, 2)], [(1, 0), (1, 1), (1, 2)], [(2, 0), (2, 1), (2, 2)],  # rows\n",
    "                [(0, 0), (1, 0), (2, 0)], [(0, 1), (1, 1), (2, 1)], [(0, 2), (1, 2), (2, 2)],  # columns\n",
    "                [(0, 0), (1, 1), (2, 2)], [(0, 2), (1, 1), (2, 0)]]  # diagonals\n",
    "\n",
    "    for cond in win_cond:\n",
    "        if all(board[x][y] == player for x, y in cond):\n",
    "            return True\n",
    "    return False\n",
    "\n",
    "def get_empty_cells(board):\n",
    "    cells = []\n",
    "    for x in range(3):\n",
    "        for y in range(3):\n",
    "            if board[x][y] == \" \":\n",
    "                cells.append((x, y))\n",
    "    return cells\n",
    "\n",
    "def is_full(board):\n",
    "    return all(all(cell != \" \" for cell in row) for row in board)\n",
    "\n",
    "def evaluate(board):\n",
    "    if check_winner(board, \"X\"):\n",
    "        return 1\n",
    "    elif check_winner(board, \"O\"):\n",
    "        return -1\n",
    "    else:\n",
    "        return 0\n",
    "\n",
    "def minimax(board, depth, is_maximizing):\n",
    "    score = evaluate(board)\n",
    "    if score != 0 or is_full(board):\n",
    "        return score\n",
    "    \n",
    "    if is_maximizing:\n",
    "        best_score = float('-inf')\n",
    "        for (x, y) in get_empty_cells(board):\n",
    "            board[x][y] = \"X\"\n",
    "            score = minimax(board, depth + 1, False)\n",
    "            board[x][y] = \" \"\n",
    "            best_score = max(best_score, score)\n",
    "        return best_score\n",
    "    else:\n",
    "        best_score = float('inf')\n",
    "        for (x, y) in get_empty_cells(board):\n",
    "            board[x][y] = \"O\"\n",
    "            score = minimax(board, depth + 1, True)\n",
    "            board[x][y] = \" \"\n",
    "            best_score = min(best_score, score)\n",
    "        return best_score\n",
    "\n",
    "def ai_move(board):\n",
    "    best_score = float('-inf')\n",
    "    move = None\n",
    "    for (x, y) in get_empty_cells(board):\n",
    "        board[x][y] = \"X\"\n",
    "        score = minimax(board, 0, False)\n",
    "        board[x][y] = \" \"\n",
    "        if score > best_score:\n",
    "            best_score = score\n",
    "            move = (x, y)\n",
    "    return move\n",
    "\n",
    "def main():\n",
    "    board = [[\" \" for _ in range(3)] for _ in range(3)]\n",
    "    human = \"O\"\n",
    "    ai = \"X\"\n",
    "    current_turn = \"X\" if random.randint(0, 1) == 0 else \"O\"\n",
    "    \n",
    "    while True:\n",
    "        print_board(board)\n",
    "        if current_turn == human:\n",
    "            x, y = map(int, input(\"Enter your move (row and column): \").split())\n",
    "            if board[x][y] != \" \":\n",
    "                print(\"Invalid move. Try again.\")\n",
    "                continue\n",
    "            board[x][y] = human\n",
    "        else:\n",
    "            move = ai_move(board)\n",
    "            if move is not None:\n",
    "                board[move[0]][move[1]] = ai\n",
    "        \n",
    "        if check_winner(board, current_turn):\n",
    "            print_board(board)\n",
    "            print(f\"{current_turn} wins!\")\n",
    "            break\n",
    "        \n",
    "        if is_full(board):\n",
    "            print_board(board)\n",
    "            print(\"It's a tie!\")\n",
    "            break\n",
    "        \n",
    "        current_turn = human if current_turn == ai else ai\n",
    "\n",
    "if __name__ == \"__main__\":\n",
    "    main()\n"
   ]
  },
  {
   "cell_type": "code",
   "execution_count": 5,
   "id": "6d8ee18a-c29a-42d6-80a0-0f841d92c7cd",
   "metadata": {},
   "outputs": [
    {
     "name": "stdout",
     "output_type": "stream",
     "text": [
      "AI goes first\n",
      " | | \n",
      "-----\n",
      " | | \n",
      "-----\n",
      " | | \n",
      "-----\n",
      "AI is making a move...\n",
      "X| | \n",
      "-----\n",
      " | | \n",
      "-----\n",
      " | | \n",
      "-----\n"
     ]
    },
    {
     "name": "stdin",
     "output_type": "stream",
     "text": [
      "Enter your move (row and column):  0 2\n"
     ]
    },
    {
     "name": "stdout",
     "output_type": "stream",
     "text": [
      "X| |O\n",
      "-----\n",
      " | | \n",
      "-----\n",
      " | | \n",
      "-----\n",
      "AI is making a move...\n",
      "X| |O\n",
      "-----\n",
      "X| | \n",
      "-----\n",
      " | | \n",
      "-----\n"
     ]
    },
    {
     "name": "stdin",
     "output_type": "stream",
     "text": [
      "Enter your move (row and column):  2 0\n"
     ]
    },
    {
     "name": "stdout",
     "output_type": "stream",
     "text": [
      "X| |O\n",
      "-----\n",
      "X| | \n",
      "-----\n",
      "O| | \n",
      "-----\n",
      "AI is making a move...\n",
      "X| |O\n",
      "-----\n",
      "X|X| \n",
      "-----\n",
      "O| | \n",
      "-----\n"
     ]
    },
    {
     "name": "stdin",
     "output_type": "stream",
     "text": [
      "Enter your move (row and column):  2 2\n"
     ]
    },
    {
     "name": "stdout",
     "output_type": "stream",
     "text": [
      "X| |O\n",
      "-----\n",
      "X|X| \n",
      "-----\n",
      "O| |O\n",
      "-----\n",
      "AI is making a move...\n",
      "X| |O\n",
      "-----\n",
      "X|X|X\n",
      "-----\n",
      "O| |O\n",
      "-----\n",
      "X wins!\n"
     ]
    }
   ],
   "source": [
    "import random\n",
    "\n",
    "def print_board(board):\n",
    "    for row in board:\n",
    "        print(\"|\".join(row))\n",
    "        print(\"-\" * 5)\n",
    "\n",
    "def check_winner(board, player):\n",
    "    win_cond = [[(0, 0), (0, 1), (0, 2)], [(1, 0), (1, 1), (1, 2)], [(2, 0), (2, 1), (2, 2)],  # rows\n",
    "                [(0, 0), (1, 0), (2, 0)], [(0, 1), (1, 1), (2, 1)], [(0, 2), (1, 2), (2, 2)],  # columns\n",
    "                [(0, 0), (1, 1), (2, 2)], [(0, 2), (1, 1), (2, 0)]]  # diagonals\n",
    "\n",
    "    for cond in win_cond:\n",
    "        if all(board[x][y] == player for x, y in cond):\n",
    "            return True\n",
    "    return False\n",
    "\n",
    "def get_empty_cells(board):\n",
    "    cells = []\n",
    "    for x in range(3):\n",
    "        for y in range(3):\n",
    "            if board[x][y] == \" \":\n",
    "                cells.append((x, y))\n",
    "    return cells\n",
    "\n",
    "def is_full(board):\n",
    "    return all(all(cell != \" \" for cell in row) for row in board)\n",
    "\n",
    "def evaluate(board):\n",
    "    if check_winner(board, \"X\"):\n",
    "        return 1\n",
    "    elif check_winner(board, \"O\"):\n",
    "        return -1\n",
    "    else:\n",
    "        return 0\n",
    "\n",
    "def minimax(board, depth, is_maximizing):\n",
    "    score = evaluate(board)\n",
    "    if score != 0 or is_full(board):\n",
    "        return score\n",
    "    \n",
    "    if is_maximizing:\n",
    "        best_score = float('-inf')\n",
    "        for (x, y) in get_empty_cells(board):\n",
    "            board[x][y] = \"X\"\n",
    "            score = minimax(board, depth + 1, False)\n",
    "            board[x][y] = \" \"\n",
    "            best_score = max(best_score, score)\n",
    "        return best_score\n",
    "    else:\n",
    "        best_score = float('inf')\n",
    "        for (x, y) in get_empty_cells(board):\n",
    "            board[x][y] = \"O\"\n",
    "            score = minimax(board, depth + 1, True)\n",
    "            board[x][y] = \" \"\n",
    "            best_score = min(best_score, score)\n",
    "        return best_score\n",
    "\n",
    "def ai_move(board):\n",
    "    best_score = float('-inf')\n",
    "    move = None\n",
    "    for (x, y) in get_empty_cells(board):\n",
    "        board[x][y] = \"X\"\n",
    "        score = minimax(board, 0, False)\n",
    "        board[x][y] = \" \"\n",
    "        if score > best_score:\n",
    "            best_score = score\n",
    "            move = (x, y)\n",
    "    return move\n",
    "\n",
    "def main():\n",
    "    board = [[\" \" for _ in range(3)] for _ in range(3)]\n",
    "    human = \"O\"\n",
    "    ai = \"X\"\n",
    "    current_turn = \"X\" if random.randint(0, 1) == 0 else \"O\"\n",
    "    \n",
    "    if current_turn == ai:\n",
    "        print(\"AI goes first\")\n",
    "    else:\n",
    "        print(\"You go first\")\n",
    "    \n",
    "    while True:\n",
    "        print_board(board)\n",
    "        if current_turn == human:\n",
    "            x, y = map(int, input(\"Enter your move (row and column): \").split())\n",
    "            if board[x][y] != \" \":\n",
    "                print(\"Invalid move. Try again.\")\n",
    "                continue\n",
    "            board[x][y] = human\n",
    "        else:\n",
    "            print(\"AI is making a move...\")\n",
    "            move = ai_move(board)\n",
    "            if move is not None:\n",
    "                board[move[0]][move[1]] = ai\n",
    "        \n",
    "        if check_winner(board, current_turn):\n",
    "            print_board(board)\n",
    "            print(f\"{current_turn} wins!\")\n",
    "            break\n",
    "        \n",
    "        if is_full(board):\n",
    "            print_board(board)\n",
    "            print(\"It's a tie!\")\n",
    "            break\n",
    "        \n",
    "        current_turn = human if current_turn == ai else ai\n",
    "\n",
    "if __name__ == \"__main__\":\n",
    "    main()\n"
   ]
  },
  {
   "cell_type": "code",
   "execution_count": null,
   "id": "0af53058-af8e-4abe-b6d9-7e3f3a77ca80",
   "metadata": {},
   "outputs": [],
   "source": []
  }
 ],
 "metadata": {
  "kernelspec": {
   "display_name": "Python 3 (ipykernel)",
   "language": "python",
   "name": "python3"
  },
  "language_info": {
   "codemirror_mode": {
    "name": "ipython",
    "version": 3
   },
   "file_extension": ".py",
   "mimetype": "text/x-python",
   "name": "python",
   "nbconvert_exporter": "python",
   "pygments_lexer": "ipython3",
   "version": "3.11.7"
  }
 },
 "nbformat": 4,
 "nbformat_minor": 5
}
